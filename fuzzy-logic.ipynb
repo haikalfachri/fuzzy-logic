{
  "nbformat": 4,
  "nbformat_minor": 0,
  "metadata": {
    "colab": {
      "name": "Tupro2_Kelompok7_IF4401.ipynb",
      "provenance": [],
      "collapsed_sections": []
    },
    "kernelspec": {
      "name": "python3",
      "display_name": "Python 3"
    }
  },
  "cells": [
    {
      "cell_type": "markdown",
      "source": [
        "Library"
      ],
      "metadata": {
        "id": "rrgGZ9stIcsP"
      }
    },
    {
      "cell_type": "code",
      "metadata": {
        "id": "vT_QPNKup6F7"
      },
      "source": [
        "import matplotlib.pyplot as plt\n",
        "import pandas as pd\n",
        "%matplotlib inline"
      ],
      "execution_count": null,
      "outputs": []
    },
    {
      "cell_type": "markdown",
      "source": [
        "Membership Function"
      ],
      "metadata": {
        "id": "NQE7uOLj3e-c"
      }
    },
    {
      "cell_type": "code",
      "metadata": {
        "id": "h5knui6oq37e"
      },
      "source": [
        "# membership function\n",
        "servis = {\n",
        "    'baik'   : [65.00, 80.00, 100.00, 100.00], \n",
        "    'cukup'   : [20.00, 40.00, 65.00, 80.00], \n",
        "    'buruk'   : [0.00,  0.00, 20.00, 40.00], \n",
        "}\n",
        "\n",
        "harga = {\n",
        "    'mahal'   : [5.00, 8.00, 10.00, 10.00],\n",
        "    'sedang'   : [2.00,  5.00,  5.00, 8.00],\n",
        "    'murah'   : [0.00,  0.00,  2.00,  5.00],\n",
        "}\n",
        "\n",
        "# output membership\n",
        "peringkat_top10 = {'ya': 80, 'tidak': 40}"
      ],
      "execution_count": null,
      "outputs": []
    },
    {
      "cell_type": "markdown",
      "source": [
        "Membership Plot"
      ],
      "metadata": {
        "id": "4Y8qN7pi3YM8"
      }
    },
    {
      "cell_type": "code",
      "source": [
        "# visualisasi membership\n",
        "def membership_plot(membership, xlabel, ylabel, label='', min=0, max=1):\n",
        "    color = ['r', 'g', 'b']\n",
        "    idx_color = 0\n",
        "    for nilai_linguistik in membership:\n",
        "        y = [0, 1, 1, 0]\n",
        "        x = membership[nilai_linguistik]\n",
        "        plt.plot((min, x[0]), (0,0))\n",
        "        for i in range(len(x)-1):\n",
        "            plt.plot((x[i], x[i+1]), (y[i], y[i+1]), color[idx_color])\n",
        "        plt.plot((x[-1], max), (0,0), color[idx_color], label=nilai_linguistik)\n",
        "        plt.xlabel(xlabel)\n",
        "        plt.ylabel(ylabel)\n",
        "        idx_color += 1\n",
        "    plt.legend(loc=6)\n",
        "    plt.show()\n",
        "\n",
        "# visualisasi model sugeno\n",
        "def sugeno_plot(membership):\n",
        "  color = ['r', 'g']\n",
        "  idx_color = 0\n",
        "  \n",
        "  for nilai_linguistik in membership:\n",
        "    x = membership[nilai_linguistik]\n",
        "    plt.plot((x, x), (0, 1), color[idx_color], label=nilai_linguistik)\n",
        "    idx_color += 1\n",
        "  plt.xticks([i for i in range(0,100,10)])\n",
        "  plt.title(\"Model Sugeno\")\n",
        "  plt.legend(loc=6)\n",
        "  plt.xlabel(\"Peringkat Top 10\")\n",
        "  plt.ylabel(\"\\u03BC(x)\")\n",
        "  plt.show()"
      ],
      "metadata": {
        "id": "5uFUiOq0Ef68"
      },
      "execution_count": null,
      "outputs": []
    },
    {
      "cell_type": "markdown",
      "source": [
        "Fuzzyfication"
      ],
      "metadata": {
        "id": "AbSe1JVV3V1q"
      }
    },
    {
      "cell_type": "code",
      "source": [
        "# fuzzyfication\n",
        "def derajat_kebenaran(x, batas):\n",
        "    if x < batas[0] or x > batas[3]:\n",
        "        return 0\n",
        "    elif x >= batas[1] and x <= batas[2]:\n",
        "        return 1\n",
        "    elif x >= batas[0] and x <= batas[1]:\n",
        "        return (x-batas[0])/(batas[1]-batas[0])\n",
        "    elif x >= batas[2] and x <= batas[3]: \n",
        "        return -1*(x-batas[3])/(batas[3]-batas[2])\n",
        "    return 0\n",
        "\n",
        "def nilai_fuzzy(x, membership):\n",
        "    hasil = {}\n",
        "    for nilai_linguistik in membership:\n",
        "        hasil[nilai_linguistik] = derajat_kebenaran(x, membership[nilai_linguistik])\n",
        "    return hasil\n",
        "\n",
        "def fuzzyfication(x, list_membership) :\n",
        "    x_fuzzyfication = []\n",
        "    for i in range(len(list_membership)) :\n",
        "        x_fuzzyfication.append(nilai_fuzzy(x[i], list_membership[i]))\n",
        "    return x_fuzzyfication"
      ],
      "metadata": {
        "id": "seQZVmqFEiWM"
      },
      "execution_count": null,
      "outputs": []
    },
    {
      "cell_type": "markdown",
      "source": [
        "Inference"
      ],
      "metadata": {
        "id": "4KPkFM333HZZ"
      }
    },
    {
      "cell_type": "code",
      "source": [
        "# inference\n",
        "rule = {\n",
        "    ('baik', 'mahal') : 'tidak',\n",
        "    ('baik', 'sedang') : 'ya',\n",
        "    ('baik', 'murah') : 'ya',\n",
        "    ('cukup', 'mahal') : 'tidak',\n",
        "    ('cukup', 'sedang') : 'tidak',\n",
        "    ('cukup', 'murah') : 'tidak',\n",
        "    ('buruk', 'mahal') : 'tidak',\n",
        "    ('buruk', 'sedang') : 'tidak',\n",
        "    ('buruk', 'murah') : 'tidak'\n",
        "}\n",
        "\n",
        "def inference(x_fuzzyfication, rule):\n",
        "    x_inference = {}\n",
        "    for l1, v1 in x_fuzzyfication[0].items():\n",
        "        for l2, v2 in x_fuzzyfication[1].items():\n",
        "            r = (l1,l2)\n",
        "            min_value = min(v1, v2)\n",
        "            current_value = x_inference.get(rule[r], 0)\n",
        "            x_inference[rule[r]]= max(min_value, current_value)\n",
        "    return x_inference"
      ],
      "metadata": {
        "id": "pUd-WOErElus"
      },
      "execution_count": null,
      "outputs": []
    },
    {
      "cell_type": "markdown",
      "source": [
        "Defuzzification "
      ],
      "metadata": {
        "id": "H7jhV8Mf3CyL"
      }
    },
    {
      "cell_type": "code",
      "source": [
        "# defuzzificcation (Sugeno)\n",
        "def defuzzification(x_inference, membership):\n",
        "    pembilang = 0\n",
        "    penyebut = 0\n",
        "    for nilai_linguistik in membership:\n",
        "        pembilang = pembilang + x_inference[nilai_linguistik] * membership[nilai_linguistik]\n",
        "        penyebut = penyebut + x_inference[nilai_linguistik]\n",
        "    return pembilang/penyebut\n"
      ],
      "metadata": {
        "id": "70dWWx3pEpFb"
      },
      "execution_count": null,
      "outputs": []
    },
    {
      "cell_type": "markdown",
      "source": [
        "Main Program"
      ],
      "metadata": {
        "id": "fIS3H3U23AdB"
      }
    },
    {
      "cell_type": "code",
      "source": [
        "# create membership plot\n",
        "membership_plot(servis, 'Servis', '\\u03BC(x)')\n",
        "membership_plot(harga, 'Harga', '\\u03BC(x)')\n",
        "sugeno_plot(peringkat_top10)\n",
        "\n",
        "# read data dari file bengkel.xlsx\n",
        "dfs = pd.read_excel('bengkel.xlsx')\n",
        "dfs = dfs[['servis', 'harga']]\n",
        "data = dfs.values\n",
        "\n",
        "# fuzzy systems\n",
        "skor_test = []\n",
        "for x in data : \n",
        "    x_fuzzyfication = fuzzyfication(x, [servis, harga])\n",
        "    x_inference = inference(x_fuzzyfication, rule)\n",
        "    x_defuzzification = defuzzification(x_inference, peringkat_top10)\n",
        "    skor_test.append(x_defuzzification)\n",
        "skor_test = dict(zip([i for i in range(1, 101)], skor_test))\n",
        "\n",
        "# placement peringkat 10 terbaik\n",
        "skor_test = {k: v for k, v in sorted(skor_test.items(), key=lambda item: item[1], reverse=True)}\n",
        "peringkat_top10 = dict(list(skor_test.items())[:10])\n",
        "\n",
        "# output ke file peringkat.xlsx\n",
        "output = pd.DataFrame(peringkat_top10.items(), columns=['id', 'skor'])\n",
        "print(output)\n",
        "output.to_excel('peringkat.xlsx')"
      ],
      "metadata": {
        "colab": {
          "base_uri": "https://localhost:8080/",
          "height": 1000
        },
        "id": "9ivKYZ78E1XH",
        "outputId": "dd8914a4-5eed-4a5c-ac14-800ae40a6f09"
      },
      "execution_count": null,
      "outputs": [
        {
          "output_type": "display_data",
          "data": {
            "text/plain": [
              "<Figure size 432x288 with 1 Axes>"
            ],
            "image/png": "[encoded data removed]"
          },
          "metadata": {
            "needs_background": "light"
          }
        },
        {
          "output_type": "display_data",
          "data": {
            "text/plain": [
              "<Figure size 432x288 with 1 Axes>"
            ],
            "image/png": "[encoded data removed]"
          },
          "metadata": {
            "needs_background": "light"
          }
        },
        {
          "output_type": "display_data",
          "data": {
            "text/plain": [
              "<Figure size 432x288 with 1 Axes>"
            ],
            "image/png": "[encoded data removed]"
          },
          "metadata": {
            "needs_background": "light"
          }
        },
        {
          "output_type": "stream",
          "name": "stdout",
          "text": [
            "   id       skor\n",
            "0   3  80.000000\n",
            "1  13  80.000000\n",
            "2  34  80.000000\n",
            "3  52  80.000000\n",
            "4  91  80.000000\n",
            "5  92  80.000000\n",
            "6  15  74.666667\n",
            "7  16  66.666667\n",
            "8  60  66.666667\n",
            "9  17  53.333333\n"
          ]
        }
      ]
    }
  ]
}